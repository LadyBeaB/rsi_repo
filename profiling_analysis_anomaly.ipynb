{
 "cells": [
  {
   "cell_type": "markdown",
   "metadata": {},
   "source": [
    "Profiling"
   ]
  },
  {
   "cell_type": "code",
   "execution_count": null,
   "metadata": {},
   "outputs": [],
   "source": [
    "import pandas as pd\n",
    "import numpy as np\n",
    "import re\n",
    "import os"
   ]
  },
  {
   "cell_type": "code",
   "execution_count": 30,
   "metadata": {},
   "outputs": [],
   "source": [
    "# Define your path and file name\n",
    "PATH = 'C:/Users/bea.black/PsychiatryUK/cleansed'\n",
    "FILE_NAME = 'rsi_data_merged.csv' # rsi_data_merged.csv, agg_reference_merged.csv, cleaned_contents.csv, cleaned_notes.csv, cleaned_table_5_data.csv, cleaned_table_6_data.csv\n",
    "full_path = os.path.join(PATH, FILE_NAME)"
   ]
  },
  {
   "cell_type": "code",
   "execution_count": 31,
   "metadata": {},
   "outputs": [
    {
     "name": "stdout",
     "output_type": "stream",
     "text": [
      "Top 5 rows:\n",
      "  sheet_name                      table_name      date frequency  value  \\\n",
      "0       CPSA  Index number of sales per week  1988 Jan   monthly   28.4   \n",
      "1       CPSA  Index number of sales per week  1988 Jan   monthly   25.2   \n",
      "2       CPSA  Index number of sales per week  1988 Jan   monthly   36.0   \n",
      "3       CPSA  Index number of sales per week  1988 Jan   monthly   31.8   \n",
      "4       CPSA  Index number of sales per week  1988 Jan   monthly   35.1   \n",
      "\n",
      "  agg_sic_code dataset_code  year month_name  month  \n",
      "0      AGG 21X         J468  1988        Jan      1  \n",
      "1        AGG 1         EAQW  1988        Jan      1  \n",
      "2       AGG 12         EAQY  1988        Jan      1  \n",
      "3        47.19         WAQX  1988        Jan      1  \n",
      "4        AGG 5         EARA  1988        Jan      1  \n"
     ]
    }
   ],
   "source": [
    "# Read the CSV file\n",
    "df = pd.read_csv(full_path, parse_dates=True, engine='python', sep=',', quotechar='\"', on_bad_lines='skip')\n",
    "\n",
    "print(\"Top 5 rows:\")\n",
    "print(df.head())"
   ]
  },
  {
   "cell_type": "code",
   "execution_count": 32,
   "metadata": {},
   "outputs": [
    {
     "name": "stdout",
     "output_type": "stream",
     "text": [
      "nrows = 298,289\n",
      "ncols = 10\n"
     ]
    }
   ],
   "source": [
    "# Simple Structure (No. Rows/Cols)\n",
    "nrows, ncols = df.shape\n",
    "print(f'nrows = {nrows:,}')\n",
    "print(f'ncols = {ncols:,}')"
   ]
  },
  {
   "cell_type": "code",
   "execution_count": null,
   "metadata": {},
   "outputs": [
    {
     "data": {
      "text/html": [
       "<div>\n",
       "<style scoped>\n",
       "    .dataframe tbody tr th:only-of-type {\n",
       "        vertical-align: middle;\n",
       "    }\n",
       "\n",
       "    .dataframe tbody tr th {\n",
       "        vertical-align: top;\n",
       "    }\n",
       "\n",
       "    .dataframe thead th {\n",
       "        text-align: right;\n",
       "    }\n",
       "</style>\n",
       "<table border=\"1\" class=\"dataframe\">\n",
       "  <thead>\n",
       "    <tr style=\"text-align: right;\">\n",
       "      <th></th>\n",
       "      <th>Count of null values</th>\n",
       "      <th>Count of non-null values</th>\n",
       "      <th>Data Type</th>\n",
       "      <th>Count of unique values</th>\n",
       "      <th>Potential PK</th>\n",
       "      <th>Max String Length (objects)</th>\n",
       "    </tr>\n",
       "  </thead>\n",
       "  <tbody>\n",
       "    <tr>\n",
       "      <th>sheet_name</th>\n",
       "      <td>0</td>\n",
       "      <td>298289</td>\n",
       "      <td>object</td>\n",
       "      <td>26</td>\n",
       "      <td>False</td>\n",
       "      <td>10.0</td>\n",
       "    </tr>\n",
       "    <tr>\n",
       "      <th>table_name</th>\n",
       "      <td>1157</td>\n",
       "      <td>297132</td>\n",
       "      <td>object</td>\n",
       "      <td>10</td>\n",
       "      <td>False</td>\n",
       "      <td>107.0</td>\n",
       "    </tr>\n",
       "    <tr>\n",
       "      <th>date</th>\n",
       "      <td>0</td>\n",
       "      <td>298289</td>\n",
       "      <td>object</td>\n",
       "      <td>1750</td>\n",
       "      <td>False</td>\n",
       "      <td>8.0</td>\n",
       "    </tr>\n",
       "    <tr>\n",
       "      <th>frequency</th>\n",
       "      <td>0</td>\n",
       "      <td>298289</td>\n",
       "      <td>object</td>\n",
       "      <td>3</td>\n",
       "      <td>False</td>\n",
       "      <td>9.0</td>\n",
       "    </tr>\n",
       "    <tr>\n",
       "      <th>value</th>\n",
       "      <td>0</td>\n",
       "      <td>298289</td>\n",
       "      <td>float64</td>\n",
       "      <td>4812</td>\n",
       "      <td>False</td>\n",
       "      <td>NaN</td>\n",
       "    </tr>\n",
       "    <tr>\n",
       "      <th>agg_sic_code</th>\n",
       "      <td>1157</td>\n",
       "      <td>297132</td>\n",
       "      <td>object</td>\n",
       "      <td>54</td>\n",
       "      <td>False</td>\n",
       "      <td>8.0</td>\n",
       "    </tr>\n",
       "    <tr>\n",
       "      <th>dataset_code</th>\n",
       "      <td>0</td>\n",
       "      <td>298289</td>\n",
       "      <td>object</td>\n",
       "      <td>420</td>\n",
       "      <td>False</td>\n",
       "      <td>4.0</td>\n",
       "    </tr>\n",
       "    <tr>\n",
       "      <th>year</th>\n",
       "      <td>0</td>\n",
       "      <td>298289</td>\n",
       "      <td>int64</td>\n",
       "      <td>226</td>\n",
       "      <td>False</td>\n",
       "      <td>NaN</td>\n",
       "    </tr>\n",
       "    <tr>\n",
       "      <th>month_name</th>\n",
       "      <td>59035</td>\n",
       "      <td>239254</td>\n",
       "      <td>object</td>\n",
       "      <td>24</td>\n",
       "      <td>False</td>\n",
       "      <td>3.0</td>\n",
       "    </tr>\n",
       "    <tr>\n",
       "      <th>month</th>\n",
       "      <td>0</td>\n",
       "      <td>298289</td>\n",
       "      <td>int64</td>\n",
       "      <td>13</td>\n",
       "      <td>False</td>\n",
       "      <td>NaN</td>\n",
       "    </tr>\n",
       "  </tbody>\n",
       "</table>\n",
       "</div>"
      ],
      "text/plain": [
       "              Count of null values  Count of non-null values Data Type  \\\n",
       "sheet_name                       0                    298289    object   \n",
       "table_name                    1157                    297132    object   \n",
       "date                             0                    298289    object   \n",
       "frequency                        0                    298289    object   \n",
       "value                            0                    298289   float64   \n",
       "agg_sic_code                  1157                    297132    object   \n",
       "dataset_code                     0                    298289    object   \n",
       "year                             0                    298289     int64   \n",
       "month_name                   59035                    239254    object   \n",
       "month                            0                    298289     int64   \n",
       "\n",
       "              Count of unique values  Potential PK  \\\n",
       "sheet_name                        26         False   \n",
       "table_name                        10         False   \n",
       "date                            1750         False   \n",
       "frequency                          3         False   \n",
       "value                           4812         False   \n",
       "agg_sic_code                      54         False   \n",
       "dataset_code                     420         False   \n",
       "year                             226         False   \n",
       "month_name                        24         False   \n",
       "month                             13         False   \n",
       "\n",
       "              Max String Length (objects)  \n",
       "sheet_name                           10.0  \n",
       "table_name                          107.0  \n",
       "date                                  8.0  \n",
       "frequency                             9.0  \n",
       "value                                 NaN  \n",
       "agg_sic_code                          8.0  \n",
       "dataset_code                          4.0  \n",
       "year                                  NaN  \n",
       "month_name                            3.0  \n",
       "month                                 NaN  "
      ]
     },
     "execution_count": 33,
     "metadata": {},
     "output_type": "execute_result"
    }
   ],
   "source": [
    "# Check For Null Data\n",
    "summary = pd.DataFrame(df.isnull().sum(), columns = ['Count of null values'])\n",
    "summary['Count of non-null values'] = (~df.isnull()).sum()\n",
    "summary['Data Type'] =df.dtypes\n",
    "summary['Count of unique values'] = df.nunique()\n",
    "summary['Potential PK'] = summary.apply(lambda x: True\n",
    "                                             if (x['Count of unique values'] == x['Count of non-null values']) & \n",
    "                                                (x['Count of unique values'] != 0)  \n",
    "                                                else False,\n",
    "                                                axis = 1)\n",
    "\n",
    "\n",
    "measurer = np.vectorize(len)\n",
    "df_object = df.select_dtypes(include=[object])\n",
    "df_dict = dict(zip(df_object, measurer(df_object.values.astype(str)).max(axis=0)))\n",
    "df_lengths = pd.DataFrame(list(df_dict.items()))\n",
    "df_lengths.columns=[\"Column\",\"Max String Length (objects)\"]\n",
    "df_lengths.set_index(\"Column\", inplace=True)\n",
    "summary = pd.concat([summary, df_lengths], axis=1)\n",
    "\n",
    "summary"
   ]
  },
  {
   "cell_type": "code",
   "execution_count": 34,
   "metadata": {},
   "outputs": [
    {
     "name": "stdout",
     "output_type": "stream",
     "text": [
      "Total No. Duplicate Rows is: 0 / 298289 (0%)\n"
     ]
    },
    {
     "data": {
      "text/html": [
       "<div>\n",
       "<style scoped>\n",
       "    .dataframe tbody tr th:only-of-type {\n",
       "        vertical-align: middle;\n",
       "    }\n",
       "\n",
       "    .dataframe tbody tr th {\n",
       "        vertical-align: top;\n",
       "    }\n",
       "\n",
       "    .dataframe thead th {\n",
       "        text-align: right;\n",
       "    }\n",
       "</style>\n",
       "<table border=\"1\" class=\"dataframe\">\n",
       "  <thead>\n",
       "    <tr style=\"text-align: right;\">\n",
       "      <th></th>\n",
       "      <th>sheet_name</th>\n",
       "      <th>table_name</th>\n",
       "      <th>date</th>\n",
       "      <th>frequency</th>\n",
       "      <th>value</th>\n",
       "      <th>agg_sic_code</th>\n",
       "      <th>dataset_code</th>\n",
       "      <th>year</th>\n",
       "      <th>month_name</th>\n",
       "      <th>month</th>\n",
       "    </tr>\n",
       "  </thead>\n",
       "  <tbody>\n",
       "  </tbody>\n",
       "</table>\n",
       "</div>"
      ],
      "text/plain": [
       "Empty DataFrame\n",
       "Columns: [sheet_name, table_name, date, frequency, value, agg_sic_code, dataset_code, year, month_name, month]\n",
       "Index: []"
      ]
     },
     "execution_count": 34,
     "metadata": {},
     "output_type": "execute_result"
    }
   ],
   "source": [
    "# Proportion of row duplicates\n",
    "duplicates = df.duplicated().sum() # by default, it considers all columns\n",
    "total = len(df.index)\n",
    "print(\"Total No. Duplicate Rows is: \" + str(duplicates) + \" / \" + str(total) + \" (\" + \"{:.0%}\".format(duplicates/total) + \")\")\n",
    "df.loc[df.duplicated(), :]"
   ]
  },
  {
   "cell_type": "code",
   "execution_count": 35,
   "metadata": {},
   "outputs": [
    {
     "data": {
      "text/plain": [
       "0"
      ]
     },
     "execution_count": 35,
     "metadata": {},
     "output_type": "execute_result"
    }
   ],
   "source": [
    "# Ensure the DataFrame’s index is unique \n",
    "df.index.duplicated().sum()"
   ]
  },
  {
   "cell_type": "markdown",
   "metadata": {},
   "source": [
    "Analysis & Visualization"
   ]
  },
  {
   "cell_type": "markdown",
   "metadata": {},
   "source": [
    "Metric"
   ]
  },
  {
   "cell_type": "code",
   "execution_count": null,
   "metadata": {},
   "outputs": [
    {
     "name": "stdout",
     "output_type": "stream",
     "text": [
      "      sheet_name                                      table_name      date  \\\n",
      "12032      CPSA1  Percentage change on same month a year earlier  2020 Jan   \n",
      "12042      CPSA1  Percentage change on same month a year earlier  2020 Feb   \n",
      "12052      CPSA1  Percentage change on same month a year earlier  2020 Mar   \n",
      "12062      CPSA1  Percentage change on same month a year earlier  2020 Apr   \n",
      "12072      CPSA1  Percentage change on same month a year earlier  2020 May   \n",
      "\n",
      "      frequency  value agg_sic_code dataset_code  year month_name  month  \n",
      "12032   monthly   -0.7         AGG7         IDIL  2020        Jan      1  \n",
      "12042   monthly    1.1         AGG7         IDIL  2020        Feb      2  \n",
      "12052   monthly  -11.1         AGG7         IDIL  2020        Mar      3  \n",
      "12062   monthly  -51.5         AGG7         IDIL  2020        Apr      4  \n",
      "12072   monthly  -31.3         AGG7         IDIL  2020        May      5  \n",
      "      sheet_name                                         table_name      date  \\\n",
      "89382  Table ID1  Some cells in this table are empty because dat...  2000 Jan   \n",
      "89392  Table ID1  Some cells in this table are empty because dat...  2000 Feb   \n",
      "89402  Table ID1  Some cells in this table are empty because dat...  2000 Mar   \n",
      "89412  Table ID1  Some cells in this table are empty because dat...  2000 Apr   \n",
      "89422  Table ID1  Some cells in this table are empty because dat...  2000 May   \n",
      "\n",
      "      frequency  value agg_sic_code dataset_code  year month_name  month  \n",
      "89382   monthly   -2.6         AGG7         A4VN  2000        Jan      1  \n",
      "89392   monthly   -2.7         AGG7         A4VN  2000        Feb      2  \n",
      "89402   monthly   -3.3         AGG7         A4VN  2000        Mar      3  \n",
      "89412   monthly   -1.9         AGG7         A4VN  2000        Apr      4  \n",
      "89422   monthly   -2.5         AGG7         A4VN  2000        May      5  \n"
     ]
    }
   ],
   "source": [
    "# Real Retail Growth (YoY %) by Household goods stores\n",
    "# Real change is calculated by removing the effect of price changes from the value change. \n",
    "# This is done by subtracting the implied deflator (price growth) from nominal growth.\n",
    "# \n",
    "# Real growth (%) = Nominal growth (%)  – Price growth (Implied Inflation) (%)\n",
    "\n",
    "# CPSA 1 - Retail sales index: value seasonally adjusted percentage change on same month a year earlier, \n",
    "# Percentage change on same month a year earlier\n",
    "# Table ID1 - Implied price deflator - non-seasonally adjusted Year on year percentage change\n",
    "\n",
    "# Check data\n",
    "\n",
    "# Load CSV file\n",
    "csv_path = 'cleansed/rsi_data_merged.csv'\n",
    "agg_path = 'cleansed/agg_reference_merged.csv'\n",
    "\n",
    "df = pd.read_csv(csv_path)\n",
    "\n",
    "# Create df for IDIL from CPSA1 (nominal growth) and A4VN from Table ID1 (Inflation)\n",
    "\n",
    "n_growth = df[\n",
    "    (df['sheet_name'] == 'CPSA1') &\n",
    "    (df[\"dataset_code\"].str.upper() == \"IDIL\") &\n",
    "    (df[\"table_name\"] == \"Percentage change on same month a year earlier\") &\n",
    "    (df['agg_sic_code'].str.upper().str.contains('AGG7')) &\n",
    "    (df['year'].between(2020, 2024))\n",
    "]\n",
    "print(n_growth.head(5))\n",
    "\n",
    "p_growth = df[\n",
    "    (df['sheet_name'] == 'Table ID1') &\n",
    "    (df[\"dataset_code\"].str.upper() == \"A4VN\") &\n",
    "    (df['agg_sic_code'].str.upper().str.contains('AGG7')) & \n",
    "    (df['year'].between(2000, 2024))\n",
    "]\n",
    "print(p_growth.head(5))\n",
    "\n",
    "n_growth.to_csv('n_growth.csv')\n",
    "p_growth.to_csv('p_growth.csv')"
   ]
  },
  {
   "cell_type": "code",
   "execution_count": null,
   "metadata": {},
   "outputs": [
    {
     "name": "stdout",
     "output_type": "stream",
     "text": [
      "        date  nominal_growth  price_growth  real_growth\n",
      "0 2020-01-01            -0.7           0.1         -0.8\n",
      "1 2020-02-01             1.1          -1.1          2.2\n",
      "2 2020-03-01           -11.1          -0.8        -10.3\n",
      "3 2020-04-01           -51.5          -0.9        -50.6\n",
      "4 2020-05-01           -31.3          -1.4        -29.9\n"
     ]
    }
   ],
   "source": [
    "# Load CSV file\n",
    "csv_path = 'cleansed/rsi_data_merged.csv'\n",
    "\n",
    "df = pd.read_csv(csv_path)\n",
    "\n",
    "# Create df for IDIL from CPSA1 (nominal growth) and A4VN from Table ID1 (inflation)\n",
    "\n",
    "n_growth = df[\n",
    "    (df['sheet_name'] == 'CPSA1') &\n",
    "    (df[\"dataset_code\"].str.upper() == \"IDIL\") &\n",
    "    (df[\"table_name\"] == \"Percentage change on same month a year earlier\") &\n",
    "    (df['agg_sic_code'].str.upper().str.contains('AGG7')) &\n",
    "    (df['year'].between(2020, 2024))\n",
    "]\n",
    "\n",
    "p_growth = df[\n",
    "    (df['sheet_name'] == 'Table ID1') &\n",
    "    (df[\"dataset_code\"].str.upper() == \"A4VN\") &\n",
    "    (df['agg_sic_code'].str.upper().str.contains('AGG7')) & \n",
    "    (df['year'].between(2000, 2024))\n",
    "]\n",
    "\n",
    "# Merge datasets on year + month + agg_sic_code\n",
    "merged = pd.merge(\n",
    "    n_growth[['year', 'month', 'agg_sic_code', 'value']].rename(columns={'value': 'nominal_growth'}),\n",
    "    p_growth[['year', 'month', 'agg_sic_code', 'value']].rename(columns={'value': 'price_growth'}),\n",
    "    on=['year', 'month', 'agg_sic_code'],\n",
    "    how='inner'\n",
    ")\n",
    "\n",
    "# Calculate Real Growth\n",
    "merged['real_growth'] = merged['nominal_growth'] - merged['price_growth']\n",
    "\n",
    "# Optional: convert to datetime for plotting\n",
    "merged['date'] = pd.to_datetime(merged['year'].astype(str) + \"-\" + merged['month'].astype(str).str.zfill(2))\n",
    "\n",
    "# Sort by date\n",
    "merged = merged.sort_values('date')\n",
    "\n",
    "print(merged[['date', 'nominal_growth', 'price_growth', 'real_growth']].head())\n",
    "\n",
    "merged.to_csv('real_growth.csv')"
   ]
  },
  {
   "cell_type": "code",
   "execution_count": 103,
   "metadata": {},
   "outputs": [
    {
     "data": {
      "image/png": "[encoded data removed]",
      "text/plain": [
       "<Figure size 1008x432 with 1 Axes>"
      ]
     },
     "metadata": {
      "needs_background": "light"
     },
     "output_type": "display_data"
    }
   ],
   "source": [
    "import pandas as pd\n",
    "import matplotlib.pyplot as plt\n",
    "\n",
    "# Load the CSV and fix the date column\n",
    "df = pd.read_csv(\"real_growth.csv\")\n",
    "df['date'] = pd.to_datetime(df['date'], errors='coerce')\n",
    "df = df.dropna(subset=['date'])  # remove bad rows\n",
    "df = df.dropna(subset=['real_growth', 'nominal_growth', 'price_growth'])  # extra safety\n",
    "\n",
    "# Extract arrays for plotting\n",
    "x = df['date'].values\n",
    "y_real = df['real_growth'].values\n",
    "y_nominal = df['nominal_growth'].values\n",
    "y_price = df['price_growth'].values\n",
    "\n",
    "# Plot\n",
    "plt.figure(figsize=(14, 6))\n",
    "plt.plot(x, y_real, label='Real Growth (%)', color='#0c7c7c', linewidth=2)\n",
    "plt.plot(x, y_nominal, label='Nominal Growth (%)', linestyle='--', color='#8b8bdc', linewidth=1.8)\n",
    "plt.plot(x, y_price, label='Price Growth (%)', linestyle=':', color='#294c7e', linewidth=1.8)\n",
    "\n",
    "# Annotations\n",
    "for label_date, label_text in [('2020-04-01', 'Apr 2020 Lockdown'), ('2021-04-01', 'Apr 2021 Reopening')]:\n",
    "    date_obj = pd.to_datetime(label_date)\n",
    "    plt.axvline(date_obj, color='gray', linestyle='--', alpha=0.5)\n",
    "    plt.text(date_obj, max(y_real) * 0.9, label_text, rotation=90, verticalalignment='center', fontsize=9, color='black')\n",
    "\n",
    "# Styling\n",
    "plt.title(\"Household Goods Sector (AGG7): Real vs Nominal Growth (YoY)\")\n",
    "plt.xlabel(\"Date\")\n",
    "plt.ylabel(\"Growth (%)\")\n",
    "plt.legend()\n",
    "plt.grid(True, linestyle='--', alpha=0.5)\n",
    "plt.tight_layout()\n",
    "plt.show()"
   ]
  },
  {
   "cell_type": "markdown",
   "metadata": {},
   "source": [
    "Visualisation"
   ]
  },
  {
   "cell_type": "code",
   "execution_count": null,
   "metadata": {},
   "outputs": [
    {
     "name": "stdout",
     "output_type": "stream",
     "text": [
      "       sheet_name                      table_name  date frequency  value  \\\n",
      "238577  Table 4 A  Index number of sales per week  2000    annual   64.5   \n",
      "238578  Table 4 A  Index number of sales per week  2001    annual   65.2   \n",
      "238579  Table 4 A  Index number of sales per week  2002    annual   66.2   \n",
      "238580  Table 4 A  Index number of sales per week  2003    annual   63.9   \n",
      "238581  Table 4 A  Index number of sales per week  2004    annual   66.1   \n",
      "\n",
      "       agg_sic_code dataset_code  year month_name  month  \n",
      "238577     AGG21-SB         J5AJ  2000        NaN      0  \n",
      "238578     AGG21-SB         J5AJ  2001        NaN      0  \n",
      "238579     AGG21-SB         J5AJ  2002        NaN      0  \n",
      "238580     AGG21-SB         J5AJ  2003        NaN      0  \n",
      "238581     AGG21-SB         J5AJ  2004        NaN      0  \n",
      "       sheet_name                      table_name  date frequency  value  \\\n",
      "238548  Table 4 A  Index number of sales per week  2000    annual   43.5   \n",
      "238549  Table 4 A  Index number of sales per week  2001    annual   46.0   \n",
      "238550  Table 4 A  Index number of sales per week  2002    annual   48.3   \n",
      "238551  Table 4 A  Index number of sales per week  2003    annual   50.8   \n",
      "238552  Table 4 A  Index number of sales per week  2004    annual   53.4   \n",
      "\n",
      "       agg_sic_code dataset_code  year month_name  month  \n",
      "238548     AGG21-LB         J5AI  2000        NaN      0  \n",
      "238549     AGG21-LB         J5AI  2001        NaN      0  \n",
      "238550     AGG21-LB         J5AI  2002        NaN      0  \n",
      "238551     AGG21-LB         J5AI  2003        NaN      0  \n",
      "238552     AGG21-LB         J5AI  2004        NaN      0  \n"
     ]
    }
   ],
   "source": [
    "# Check data\n",
    "\n",
    "# Load CSV file\n",
    "csv_path = 'cleansed/rsi_data_merged.csv'\n",
    "agg_path = 'cleansed/agg_reference_merged.csv'\n",
    "\n",
    "df = pd.read_csv(csv_path)\n",
    "\n",
    "# Create df for Small and Large Businesses\n",
    "s_business = df[\n",
    "    (df['sheet_name'] == 'Table 4 A') &\n",
    "    (df['table_name'] == 'Index number of sales per week') &\n",
    "    (df[\"dataset_code\"].str.upper() == \"J5AJ\") &\n",
    "    (df['agg_sic_code'].str.upper().str.contains('AGG21-SB')) &\n",
    "    (df['year'].between(2000, 2024))\n",
    "]\n",
    "print(s_business.head(5))\n",
    "\n",
    "l_business = df[\n",
    "    (df['sheet_name'] == 'Table 4 A') &\n",
    "    (df['table_name'] == 'Index number of sales per week') &\n",
    "    (df[\"dataset_code\"].str.upper() == \"J5AI\") &\n",
    "    (df['agg_sic_code'].str.upper().str.contains('AGG21-LB')) & \n",
    "    (df['year'].between(2000, 2024))\n",
    "]\n",
    "print(l_business.head(5))"
   ]
  },
  {
   "cell_type": "code",
   "execution_count": 84,
   "metadata": {},
   "outputs": [
    {
     "data": {
      "image/png": "[encoded data removed]",
      "text/plain": [
       "<Figure size 1008x432 with 1 Axes>"
      ]
     },
     "metadata": {
      "needs_background": "light"
     },
     "output_type": "display_data"
    }
   ],
   "source": [
    "import pandas as pd\n",
    "import matplotlib.pyplot as plt\n",
    "\n",
    "# Load data\n",
    "csv_path = 'cleansed/rsi_data_merged.csv'\n",
    "agg_path = 'cleansed/agg_reference_merged.csv'\n",
    "\n",
    "df = pd.read_csv(csv_path)\n",
    "agg_ref = pd.read_csv(agg_path)\n",
    "\n",
    "# Filter Small Businesses\n",
    "s_business = df[\n",
    "    (df['sheet_name'] == 'Table 4 A') &\n",
    "    (df['table_name'] == 'Index number of sales per week') &\n",
    "    (df[\"dataset_code\"].str.upper() == \"J5AJ\") &\n",
    "    (df['agg_sic_code'].str.upper().str.contains('AGG21-SB')) &\n",
    "    (df['year'].between(2000, 2024))\n",
    "][['year', 'agg_sic_code', 'value']].rename(columns={'value': 'Small Business'})\n",
    "\n",
    "# Filter Large Businesses\n",
    "l_business = df[\n",
    "    (df['sheet_name'] == 'Table 4 A') &\n",
    "    (df['table_name'] == 'Index number of sales per week') &\n",
    "    (df[\"dataset_code\"].str.upper() == \"J5AI\") &\n",
    "    (df['agg_sic_code'].str.upper().str.contains('AGG21-LB')) &\n",
    "    (df['year'].between(2000, 2024))\n",
    "][['year', 'agg_sic_code', 'value']].rename(columns={'value': 'Large Business'})\n",
    "\n",
    "# Merge time_period_description from agg_reference\n",
    "agg_lookup = agg_ref[['agg_sic_code', 'time_period_description']].drop_duplicates()\n",
    "\n",
    "s_business = s_business.merge(agg_lookup, on='agg_sic_code', how='left')\n",
    "l_business = l_business.merge(agg_lookup, on='agg_sic_code', how='left')\n",
    "\n",
    "# Combine Small and Large Business on year\n",
    "merged = pd.merge(s_business[['year', 'Small Business']], \n",
    "                  l_business[['year', 'Large Business']], \n",
    "                  on='year', how='inner')\n",
    "\n",
    "# Plotting\n",
    "plt.figure(figsize=(14, 6))\n",
    "bar_width = 0.4\n",
    "x = merged['year']\n",
    "x_indexes = range(len(x))\n",
    "\n",
    "plt.bar([i - bar_width/2 for i in x_indexes], merged['Large Business'], \n",
    "        width=bar_width, label='Large Business', color='#0c7c7c')\n",
    "plt.bar([i + bar_width/2 for i in x_indexes], merged['Small Business'], \n",
    "        width=bar_width, label='Small Business', color='#343c7c')\n",
    "\n",
    "#plt.xlabel(\"Year\")\n",
    "plt.ylabel(\"Index Number of Sales\")\n",
    "plt.title(\"Retail Sales Index per Week for All Retailing, Including Automotive Fuel by Business Size (2000–2024)\")\n",
    "plt.xticks(ticks=x_indexes, labels=merged['year'], rotation=45)\n",
    "plt.legend(loc='lower center', bbox_to_anchor=(0.5, -0.25), ncol=2)\n",
    "plt.tight_layout()\n",
    "plt.grid(axis='y', linestyle='--', alpha=0.5)\n",
    "plt.show()"
   ]
  },
  {
   "cell_type": "markdown",
   "metadata": {},
   "source": [
    "Error Handling & Anomalies"
   ]
  },
  {
   "cell_type": "code",
   "execution_count": null,
   "metadata": {},
   "outputs": [],
   "source": [
    "# Z-Score Method - standard deviation to flag values that are unusually high or low\n",
    "\n",
    "import pandas as pd\n",
    "\n",
    "# Load your data\n",
    "df = pd.read_csv(\"real_growth.csv\")\n",
    "df['date'] = pd.to_datetime(df['date'], errors='coerce')\n",
    "df = df.dropna(subset=['date', 'real_growth'])  # Clean up\n",
    "\n",
    "# Optional: sort just to be safe\n",
    "df = df.sort_values('date')"
   ]
  },
  {
   "cell_type": "code",
   "execution_count": null,
   "metadata": {},
   "outputs": [
    {
     "name": "stdout",
     "output_type": "stream",
     "text": [
      "\n",
      "🔍 Anomalies in Real Retail Growth (Z-Score > ±2.5):\n",
      "         date  real_growth   z_score\n",
      "15 2021-04-01        146.8  5.874693\n",
      "16 2021-05-01         80.0  3.215747\n"
     ]
    }
   ],
   "source": [
    "mean = df['real_growth'].mean()\n",
    "std = df['real_growth'].std()\n",
    "\n",
    "# Compute z-score\n",
    "df['z_score'] = (df['real_growth'] - mean) / std\n",
    "\n",
    "# Flag anomalies (e.g., z > 2.5 or < -2.5)\n",
    "threshold = 2.5\n",
    "df['is_anomaly'] = df['z_score'].abs() > threshold\n",
    "\n",
    "anomalies = df[df['is_anomaly']]\n",
    "\n",
    "print(\"\\n🔍 Anomalies in Real Retail Growth (Z-Score > ±2.5):\")\n",
    "print(anomalies[['date', 'real_growth', 'z_score']].sort_values(by='z_score', key=abs, ascending=False))\n",
    "\n",
    "# potenriaally add expanation column to filter out certain events"
   ]
  },
  {
   "cell_type": "code",
   "execution_count": null,
   "metadata": {},
   "outputs": [
    {
     "name": "stdout",
     "output_type": "stream",
     "text": [
      "\n",
      "🔍 Z-Score Anomalies (|Z| > 2.5) by Frequency:\n",
      "       dataset_code frequency       date  value   z_score\n",
      "45665          JO5A   monthly 2020-04-01   43.1 -6.335617\n",
      "112744         JO5A   monthly 2020-04-01   43.1 -6.335617\n",
      "209238         J43V   monthly 2020-04-01   43.5 -6.050707\n",
      "258015         EAPG   monthly 2022-12-01  184.1  5.881531\n",
      "153974         JO2W   monthly 2022-03-01  170.4  5.601111\n",
      "...             ...       ...        ...    ...       ...\n",
      "255778         EAGF   monthly 2021-12-01  141.2  2.501624\n",
      "265820         JJ8J   monthly 2005-11-01  196.7  2.501541\n",
      "153481         JO2X   monthly 2020-12-01  114.2  2.501010\n",
      "254888         EAGN   monthly 2021-12-01  107.0  2.500407\n",
      "254898         EAGN   monthly 2022-10-01  107.0  2.500407\n",
      "\n",
      "[1058 rows x 5 columns]\n"
     ]
    }
   ],
   "source": [
    "# Other Index number of sales per week data INOSPW - Z-Score Method\n",
    "\n",
    "import pandas as pd\n",
    "\n",
    "# Load and clean data\n",
    "df = pd.read_csv(\"cleansed/rsi_data_merged.csv\")\n",
    "df = df.dropna(subset=['year', 'dataset_code', 'table_code', 'value', 'frequency'])\n",
    "df = df[df['table_code'] == 'INOSPW']\n",
    "df = df[~df['frequency'].str.lower().str.contains('quarter')]  # Exclude quarterly\n",
    "\n",
    "# Handle date column\n",
    "def generate_date(row):\n",
    "    try:\n",
    "        if row['frequency'].lower() == 'monthly':\n",
    "            return pd.to_datetime(f\"{int(row['year'])}-{int(row['month']):02}\")\n",
    "        elif row['frequency'].lower() == 'annual':\n",
    "            return pd.to_datetime(f\"{int(row['year'])}-01\")  # use Jan as placeholder\n",
    "    except:\n",
    "        return pd.NaT\n",
    "\n",
    "df['date'] = df.apply(generate_date, axis=1)\n",
    "df = df.dropna(subset=['date'])\n",
    "\n",
    "# Z-score calculation by dataset_code\n",
    "results = []\n",
    "\n",
    "for code, group in df.groupby('dataset_code'):\n",
    "    group = group.sort_values('date')\n",
    "    mean = group['value'].mean()\n",
    "    std = group['value'].std()\n",
    "    \n",
    "    group['z_score'] = (group['value'] - mean) / std\n",
    "    group['is_anomaly'] = group['z_score'].abs() > 2.5\n",
    "    anomalies = group[group['is_anomaly']]\n",
    "\n",
    "    if not anomalies.empty:\n",
    "        results.append(anomalies[['dataset_code', 'frequency', 'date', 'value', 'z_score']])\n",
    "\n",
    "# Combine and display results\n",
    "if results:\n",
    "    anomalies_df = pd.concat(results)\n",
    "    print(\"\\n🔍 Z-Score Anomalies (|Z| > 2.5) by Frequency:\")\n",
    "    print(anomalies_df.sort_values(by='z_score', key=abs, ascending=False))\n",
    "else:\n",
    "    print(\"✅ No anomalies found above Z-score threshold.\")\n",
    "\n",
    "anomalies_df.to_csv('anomalies_df.csv')"
   ]
  },
  {
   "cell_type": "code",
   "execution_count": null,
   "metadata": {},
   "outputs": [
    {
     "name": "stdout",
     "output_type": "stream",
     "text": [
      "\n",
      "🚨 Spike Detection Results (Month-on-Month real growth change > ±20%)\n",
      "         date  real_growth  real_growth_mom_change\n",
      "15 2021-04-01        146.8                   128.4\n",
      "16 2021-05-01         80.0                   -66.8\n",
      "17 2021-06-01         13.9                   -66.1\n",
      "3  2020-04-01        -50.6                   -40.3\n",
      "5  2020-06-01         -0.8                    29.1\n",
      "12 2021-01-01        -10.8                   -24.2\n",
      "24 2022-01-01         14.4                    22.6\n",
      "4  2020-05-01        -29.9                    20.7\n"
     ]
    }
   ],
   "source": [
    "# Threshold-Based Spike Detection - manually flag anything over a set threshold (based on domain knowledge)\n",
    "\n",
    "import pandas as pd\n",
    "\n",
    "# Load and prep data\n",
    "df = pd.read_csv(\"real_growth.csv\")\n",
    "df['date'] = pd.to_datetime(df['date'], errors='coerce')\n",
    "df = df.dropna(subset=['date', 'real_growth'])\n",
    "df = df.sort_values('date')\n",
    "\n",
    "# Calculate Month-on-Month change in real growth\n",
    "df['real_growth_mom_change'] = df['real_growth'].diff()\n",
    "\n",
    "# Apply threshold (e.g., ±20%)\n",
    "threshold = 20  # You can adjust this based on context\n",
    "df['is_spike'] = df['real_growth_mom_change'].abs() > threshold\n",
    "\n",
    "# View flagged results\n",
    "spikes = df[df['is_spike']]\n",
    "\n",
    "print(\"\\n🚨 Spike Detection Results (Month-on-Month real growth change > ±20%)\")\n",
    "print(spikes[['date', 'real_growth', 'real_growth_mom_change']].sort_values(by='real_growth_mom_change', key=abs, ascending=False))\n",
    "\n",
    "# potentially consider using base value to filter out noise, combine with rolling average, add expanation column"
   ]
  },
  {
   "cell_type": "code",
   "execution_count": 2,
   "metadata": {},
   "outputs": [
    {
     "name": "stdout",
     "output_type": "stream",
     "text": [
      "\n",
      "📊 Rolling Mean Deviation Anomalies (Deviation > ±15%):\n",
      "         date  real_growth  rolling_avg  rolling_deviation\n",
      "3  2020-04-01        -50.6   -30.266667          20.333333\n",
      "14 2021-03-01         18.4    55.600000          37.200000\n",
      "15 2021-04-01        146.8    81.733333          65.066667\n",
      "17 2021-06-01         13.9    31.700000          17.800000\n"
     ]
    }
   ],
   "source": [
    "# Rolling Mean Deviation - comapre each month to a rolling average\n",
    "\n",
    "import pandas as pd\n",
    "\n",
    "# Load and prepare data\n",
    "df = pd.read_csv(\"real_growth.csv\")\n",
    "df['date'] = pd.to_datetime(df['date'], errors='coerce')\n",
    "df = df.dropna(subset=['date', 'real_growth'])\n",
    "df = df.sort_values('date')\n",
    "\n",
    "# Calculate 3-month rolling average (centered)\n",
    "df['rolling_avg'] = df['real_growth'].rolling(window=3, center=True).mean()\n",
    "\n",
    "# Calculate absolute deviation from the rolling average\n",
    "df['rolling_deviation'] = (df['real_growth'] - df['rolling_avg']).abs()\n",
    "\n",
    "# Define a threshold for \"unusual\" deviation (e.g. ±15%)\n",
    "threshold = 15\n",
    "df['rolling_anomaly'] = df['rolling_deviation'] > threshold\n",
    "\n",
    "# Extract anomalies\n",
    "rolling_anomalies = df[df['rolling_anomaly']]\n",
    "\n",
    "# Display the flagged anomalies\n",
    "print(\"\\n📊 Rolling Mean Deviation Anomalies (Deviation > ±15%):\")\n",
    "print(rolling_anomalies[['date', 'real_growth', 'rolling_avg', 'rolling_deviation']])"
   ]
  }
 ],
 "metadata": {
  "kernelspec": {
   "display_name": "base",
   "language": "python",
   "name": "python3"
  },
  "language_info": {
   "codemirror_mode": {
    "name": "ipython",
    "version": 3
   },
   "file_extension": ".py",
   "mimetype": "text/x-python",
   "name": "python",
   "nbconvert_exporter": "python",
   "pygments_lexer": "ipython3",
   "version": "3.8.8"
  }
 },
 "nbformat": 4,
 "nbformat_minor": 2
}
